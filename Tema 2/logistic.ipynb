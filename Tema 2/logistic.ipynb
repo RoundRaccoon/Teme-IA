{
 "cells": [
  {
   "cell_type": "code",
   "execution_count": null,
   "metadata": {},
   "outputs": [],
   "source": [
    "import math\n",
    "import numpy as np\n",
    "\n",
    "def logistic(x):\n",
    "    return 1.0 / (1.0 + np.exp(-x))\n",
    "\n",
    "def nll(Y, T):\n",
    "    return -sum(t * math.log(y) + (1. - t) * math.log(1. - (y if y != 1 else 0.9999999999)) for y, t in zip(Y, T))\n",
    "\n",
    "def accuracy(Y, T):\n",
    "    return sum(y < .5 and t < .5 or y >= .5 and t >= .5 for y, t in zip(Y, T)) / len(T)\n",
    "\n",
    "def train_logistic(X, T, lr=.01, epochs_no=100):\n",
    "    (N, D) = X.shape\n",
    "    X_hat = np.concatenate([X, np.ones((N, 1))], axis=1)\n",
    "    W = np.random.randn((D+1))\n",
    "\n",
    "    for _ in range(epochs_no):\n",
    "        W -= lr * np.transpose(X_hat) @ (logistic(X_hat @ W) - T)\n",
    "    return W\n",
    "\n",
    "def predict_logistic(X, W):\n",
    "    (N, D) = X.shape\n",
    "    X_hat = np.concatenate([X, np.ones((N, 1))], axis=1)\n",
    "    l = X_hat @ W\n",
    "    return logistic(l)\n",
    "\n",
    "from sklearn.metrics import precision_score, recall_score, f1_score\n",
    "\n",
    "def logistic_regression(X_train, T_train, X_test, T_test, lr=0.001, epochs_no=1000):\n",
    "    W = train_logistic(X_train, T_train, lr=lr, epochs_no=epochs_no)\n",
    "    T_pred = [1 if pred >= 0.5 else 0 for pred in predict_logistic(X_test, W)]\n",
    "    precision = precision_score(T_test, T_pred)\n",
    "    recall = recall_score(T_test, T_pred)\n",
    "    f1 = f1_score(T_test, T_pred)\n",
    "    return precision, recall, f1"
   ]
  }
 ],
 "metadata": {
  "language_info": {
   "name": "python"
  }
 },
 "nbformat": 4,
 "nbformat_minor": 2
}
